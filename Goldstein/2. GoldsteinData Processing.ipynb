{
 "cells": [
  {
   "cell_type": "code",
   "execution_count": 32,
   "id": "6ab16d36-323d-4b5b-8a78-36e299ab0f86",
   "metadata": {},
   "outputs": [],
   "source": [
    "cd(\"/Users/kyleconroy/desktop/ww_paper-1\")"
   ]
  },
  {
   "cell_type": "code",
   "execution_count": 33,
   "id": "70571919-466a-4f1e-90c9-e13d8840ceb4",
   "metadata": {},
   "outputs": [
    {
     "name": "stderr",
     "output_type": "stream",
     "text": [
      "\u001b[32m\u001b[1m  Activating\u001b[22m\u001b[39m project at `~/desktop/ww_paper-1`\n"
     ]
    }
   ],
   "source": [
    "using Pkg\n",
    "Pkg.activate(\"/Users/kyleconroy/desktop/ww_paper-1\")"
   ]
  },
  {
   "cell_type": "code",
   "execution_count": 34,
   "id": "fb7bd9e9-be87-4049-97f9-f0ecbe7547ec",
   "metadata": {},
   "outputs": [
    {
     "name": "stderr",
     "output_type": "stream",
     "text": [
      "\u001b[32m\u001b[1m    Updating\u001b[22m\u001b[39m registry at `~/.julia/registries/General.toml`\n",
      "\u001b[32m\u001b[1m  No Changes\u001b[22m\u001b[39m to `~/Desktop/ww_paper-1/Project.toml`\n",
      "\u001b[32m\u001b[1m  No Changes\u001b[22m\u001b[39m to `~/Desktop/ww_paper-1/Manifest.toml`\n",
      "\u001b[32m\u001b[1m  No Changes\u001b[22m\u001b[39m to `~/Desktop/ww_paper-1/Project.toml`\n",
      "\u001b[32m\u001b[1m  No Changes\u001b[22m\u001b[39m to `~/Desktop/ww_paper-1/Manifest.toml`\n"
     ]
    }
   ],
   "source": [
    "Pkg.update()\n",
    "Pkg.resolve()"
   ]
  },
  {
   "cell_type": "code",
   "execution_count": 44,
   "id": "91cc41a5-a900-4d41-9fe2-3a6d3bcad88e",
   "metadata": {},
   "outputs": [
    {
     "data": {
      "text/plain": [
       "LogLevel(1001)"
      ]
     },
     "execution_count": 44,
     "metadata": {},
     "output_type": "execute_result"
    }
   ],
   "source": [
    "using DrWatson\n",
    "using Revise\n",
    "using JLD2\n",
    "using FileIO\n",
    "using CSV\n",
    "using DataFrames\n",
    "using Turing\n",
    "using DifferentialEquations\n",
    "using LogExpFunctions\n",
    "using Random\n",
    "using ForwardDiff\n",
    "using Optim\n",
    "using LineSearches\n",
    "using ww_paper\n",
    "using Logging\n",
    "using PreallocationTools\n",
    "\n",
    "Logging.disable_logging(Logging.Warn)"
   ]
  },
  {
   "cell_type": "code",
   "execution_count": 45,
   "id": "31b04cb6-a42f-4178-b36f-ea45155765fa",
   "metadata": {},
   "outputs": [
    {
     "data": {
      "text/plain": [
       "1"
      ]
     },
     "execution_count": 45,
     "metadata": {},
     "output_type": "execute_result"
    }
   ],
   "source": [
    "## Control Parameters\n",
    "n_samples = 250 #to recreate the analysis in the paper, set to 250; 10\n",
    "n_chains = 4 #to recreate the anaylsis in the paper, set to 4; 1\n",
    "sim = \"real\"\n",
    "seed = 1"
   ]
  },
  {
   "cell_type": "code",
   "execution_count": 48,
   "id": "e6062c27-6981-4ed4-ba8a-1c4d8e59a1a0",
   "metadata": {},
   "outputs": [
    {
     "data": {
      "text/plain": [
       "1.0"
      ]
     },
     "execution_count": 48,
     "metadata": {},
     "output_type": "execute_result"
    }
   ],
   "source": [
    "if sim == \"real\"\n",
    "  dat = CSV.read(projectdir(\"data/Obriendata.csv\"), DataFrame)\n",
    "  dat = filter(:year_day => year_day -> year_day < 423, dat)\n",
    "  ## Define Priors\n",
    "include(projectdir(\"src\", string(\"prior_constants_eirr_closed_LAdata\", \"_seed\", seed, \".jl\")))  ##Using the same constants as used in the paper\n",
    "\n",
    "subset_dat = dat[:, [:new_time, :log_gene_copies]]\n",
    "long_dat = DataFrames.stack(subset_dat, [:log_gene_copies])\n",
    "long_dat = filter(:value => value -> value > 0, long_dat)\n",
    "data_log_copies = long_dat[:, :value]\n",
    "grid_size = 1.0\n",
    "end \n"
   ]
  },
  {
   "cell_type": "code",
   "execution_count": 49,
   "id": "c1f981bd-4ac9-48aa-b04a-b980bd953981",
   "metadata": {},
   "outputs": [],
   "source": [
    "obstimes = long_dat[:, :new_time]\n",
    "obstimes = convert(Vector{Float64}, obstimes)\n",
    "\n",
    "# pick the change times \n",
    "if maximum(obstimes) % 7 == 0\n",
    "  param_change_max = maximum(obstimes) - 7\n",
    "else \n",
    "  param_change_max = maximum(obstimes)\n",
    "end \n",
    "param_change_times = collect(7:7.0:param_change_max)\n",
    "full_time_series = collect(minimum(obstimes):grid_size:maximum(obstimes))\n",
    "outs_tmp = dualcache(zeros(6,length(full_time_series)), 10)\n",
    "\n",
    "index = zeros(length(obstimes))\n",
    "for i in 1:length(index)\n",
    "    time = obstimes[i]\n",
    "    index[i] = indexin(round(Int64,time), full_time_series)[1]\n",
    "end "
   ]
  },
  {
   "cell_type": "code",
   "execution_count": 50,
   "id": "00b33b30-d49e-4ad5-a806-5c210a17dc65",
   "metadata": {},
   "outputs": [
    {
     "data": {
      "text/plain": [
       "DynamicPPL.Model{typeof(new_bayes_eirrc_closed!), (:outs_tmp, :data_log_copies, :obstimes, :param_change_times, :grid_size, :index), (), (), Tuple{DiffCache{Matrix{Float64}, Vector{Float64}}, Vector{Union{Missing, Float64}}, Vector{Float64}, Vector{Float64}, Float64, Vector{Float64}}, Tuple{}, DynamicPPL.DefaultContext}(new_bayes_eirrc_closed!, (outs_tmp = DiffCache{Matrix{Float64}, Vector{Float64}}([0.0 0.0 … 0.0 0.0; 0.0 0.0 … 0.0 0.0; … ; 0.0 0.0 … 0.0 0.0; 0.0 0.0 … 0.0 0.0], [0.0, 0.0, 0.0, 0.0, 0.0, 0.0, 0.0, 0.0, 0.0, 0.0  …  0.0, 0.0, 0.0, 0.0, 0.0, 0.0, 0.0, 0.0, 0.0, 0.0], Any[]), data_log_copies = Union{Missing, Float64}[4.3010302, 4.7916908, 4.4199557, 4.3283796, 4.4065404, 4.5477748, 4.2013969, 4.1003704, 4.3404441, 4.6106601  …  5.4227128, 5.4233279, 5.2386732, 5.2178783, 5.4994464, 5.0543256, 5.2070956, 5.1336985, 4.825913, 5.2414842], obstimes = [1.0, 3.0, 9.0, 10.0, 15.0, 17.0, 22.0, 24.0, 29.0, 31.0  …  358.0, 360.0, 362.0, 365.0, 367.0, 369.0, 372.0, 374.0, 376.0, 379.0], param_change_times = [7.0, 14.0, 21.0, 28.0, 35.0, 42.0, 49.0, 56.0, 63.0, 70.0  …  315.0, 322.0, 329.0, 336.0, 343.0, 350.0, 357.0, 364.0, 371.0, 378.0], grid_size = 1.0, index = [1.0, 3.0, 9.0, 10.0, 15.0, 17.0, 22.0, 24.0, 29.0, 31.0  …  358.0, 360.0, 362.0, 365.0, 367.0, 369.0, 372.0, 374.0, 376.0, 379.0]), NamedTuple(), DynamicPPL.DefaultContext())"
      ]
     },
     "execution_count": 50,
     "metadata": {},
     "output_type": "execute_result"
    }
   ],
   "source": [
    "## Define closed form solution\n",
    "include(projectdir(\"src/newnew_closed_soln_eirr_withincid.jl\"))\n",
    "\n",
    "## Load Model\n",
    "include(projectdir(\"src/new_bayes_eirrc_closed.jl\"))\n",
    "\n",
    "my_model = new_bayes_eirrc_closed!(\n",
    "    outs_tmp, \n",
    "    data_log_copies,\n",
    "    obstimes, \n",
    "    param_change_times,\n",
    "    grid_size,\n",
    "    index)"
   ]
  },
  {
   "cell_type": "code",
   "execution_count": 51,
   "id": "e0ba3815-5732-4d90-9838-92418b9947e7",
   "metadata": {},
   "outputs": [
    {
     "data": {
      "text/plain": [
       "optimize_many_MAP2 (generic function with 4 methods)"
      ]
     },
     "execution_count": 51,
     "metadata": {},
     "output_type": "execute_result"
    }
   ],
   "source": [
    "function optimize_many_MAP2(model, n_reps = 100, top_n = 1, verbose = true)\n",
    "    lp_res = fill(-Inf, n_reps)  # Initialize lp_res as a vector with n_reps elements, each set to -Inf\n",
    "    for i in eachindex(lp_res)\n",
    "        if verbose\n",
    "            println(i)\n",
    "        end\n",
    "        Random.seed!(i)\n",
    "        try\n",
    "            lp_res[i] = optimize(model, MAP(), LBFGS(linesearch = LineSearches.BackTracking())).lp\n",
    "        catch\n",
    "        end\n",
    "    end\n",
    "    return lp_res\n",
    "end"
   ]
  },
  {
   "cell_type": "code",
   "execution_count": 52,
   "id": "589c35d5-368f-41e9-b951-21458b62b4c6",
   "metadata": {},
   "outputs": [
    {
     "name": "stdout",
     "output_type": "stream",
     "text": [
      "1\n",
      "2\n",
      "3\n",
      "4\n",
      "5\n",
      "6\n",
      "7\n",
      "8\n",
      "9\n",
      "10\n"
     ]
    },
    {
     "data": {
      "text/plain": [
       "1-element Vector{Vector{Float64}}:\n",
       " [3.4113509613379174, -2.831777232396551, -2.2086088464379823, -0.37661802742164585, 1.2335671237861139, 0.7493576731499697, -0.39416266106959696, -0.8504178423002606, -0.16983779472455057, 0.5393016741348436  …  -0.001770910274418596, 0.031012322020963393, -0.017310649073321898, -0.05286420589243509, 1.827931971627982, 0.12165598335029328, -4.706478726466539, -2.219323480403122, 0.22374986603993396, 2.1966595579673194]"
      ]
     },
     "execution_count": 52,
     "metadata": {},
     "output_type": "execute_result"
    }
   ],
   "source": [
    "Random.seed!(seed)\n",
    "\n",
    "MAP_init = optimize_many_MAP(my_model, 10, 1, true)[1]\n",
    "\n",
    "Random.seed!(seed)\n",
    "MAP_noise = vcat(randn(length(MAP_init) - 1, n_chains), transpose(zeros(n_chains)))\n",
    "MAP_noise = [MAP_noise[:,i] for i in 1:size(MAP_noise,2)]\n",
    "\n",
    "init = repeat([MAP_init], n_chains) .+ 0.05 * MAP_noise"
   ]
  },
  {
   "cell_type": "code",
   "execution_count": 53,
   "id": "eb20362e-2443-46be-91f6-5fcea358dd6e",
   "metadata": {},
   "outputs": [
    {
     "data": {
      "text/plain": [
       "Chains MCMC chain (10×78×1 Array{Float64, 3}):\n",
       "\n",
       "Iterations        = 11:1:20\n",
       "Number of chains  = 1\n",
       "Samples per chain = 10\n",
       "Wall duration     = 10.19 seconds\n",
       "Compute duration  = 10.19 seconds\n",
       "parameters        = rt_params_non_centered[1], rt_params_non_centered[2], rt_params_non_centered[3], rt_params_non_centered[4], rt_params_non_centered[5], rt_params_non_centered[6], rt_params_non_centered[7], rt_params_non_centered[8], rt_params_non_centered[9], rt_params_non_centered[10], rt_params_non_centered[11], rt_params_non_centered[12], rt_params_non_centered[13], rt_params_non_centered[14], rt_params_non_centered[15], rt_params_non_centered[16], rt_params_non_centered[17], rt_params_non_centered[18], rt_params_non_centered[19], rt_params_non_centered[20], rt_params_non_centered[21], rt_params_non_centered[22], rt_params_non_centered[23], rt_params_non_centered[24], rt_params_non_centered[25], rt_params_non_centered[26], rt_params_non_centered[27], rt_params_non_centered[28], rt_params_non_centered[29], rt_params_non_centered[30], rt_params_non_centered[31], rt_params_non_centered[32], rt_params_non_centered[33], rt_params_non_centered[34], rt_params_non_centered[35], rt_params_non_centered[36], rt_params_non_centered[37], rt_params_non_centered[38], rt_params_non_centered[39], rt_params_non_centered[40], rt_params_non_centered[41], rt_params_non_centered[42], rt_params_non_centered[43], rt_params_non_centered[44], rt_params_non_centered[45], rt_params_non_centered[46], rt_params_non_centered[47], rt_params_non_centered[48], rt_params_non_centered[49], rt_params_non_centered[50], rt_params_non_centered[51], rt_params_non_centered[52], rt_params_non_centered[53], rt_params_non_centered[54], rt_params_non_centered[55], rt_params_non_centered[56], I_init_non_centered, R1_init_non_centered, E_init_non_centered, gamma_non_centered, nu_non_centered, eta_non_centered, rho_gene_non_centered, tau_non_centered, lambda_non_centered, df\n",
       "internals         = lp, n_steps, is_accept, acceptance_rate, log_density, hamiltonian_energy, hamiltonian_energy_error, max_hamiltonian_energy_error, tree_depth, numerical_error, step_size, nom_step_size\n",
       "\n",
       "Summary Statistics\n",
       " \u001b[1m                 parameters \u001b[0m \u001b[1m    mean \u001b[0m \u001b[1m     std \u001b[0m \u001b[1m    mcse \u001b[0m \u001b[1m ess_bulk \u001b[0m \u001b[1m ess_ta\u001b[0m ⋯\n",
       " \u001b[90m                     Symbol \u001b[0m \u001b[90m Float64 \u001b[0m \u001b[90m Float64 \u001b[0m \u001b[90m Float64 \u001b[0m \u001b[90m  Float64 \u001b[0m \u001b[90m  Float\u001b[0m ⋯\n",
       "\n",
       "   rt_params_non_centered[1]    0.1596    0.0000       NaN        NaN        N ⋯\n",
       "   rt_params_non_centered[2]   -1.4548    0.0000       NaN        NaN        N ⋯\n",
       "   rt_params_non_centered[3]   -3.0254    0.0000    0.0000        NaN        N ⋯\n",
       "   rt_params_non_centered[4]   -1.6110    0.0000    0.0000        NaN        N ⋯\n",
       "   rt_params_non_centered[5]   -0.5653    0.0000       NaN        NaN        N ⋯\n",
       "   rt_params_non_centered[6]   -0.1974    0.0000    0.0000        NaN        N ⋯\n",
       "   rt_params_non_centered[7]    0.1173    0.0000       NaN        NaN        N ⋯\n",
       "   rt_params_non_centered[8]   -0.3005    0.0000       NaN        NaN        N ⋯\n",
       "   rt_params_non_centered[9]   -0.5733    0.0000       NaN        NaN        N ⋯\n",
       "  rt_params_non_centered[10]    0.1031    0.0000       NaN        NaN        N ⋯\n",
       "  rt_params_non_centered[11]    1.4035    0.0000    0.0000        NaN        N ⋯\n",
       "  rt_params_non_centered[12]    1.0047    0.0000       NaN        NaN        N ⋯\n",
       "  rt_params_non_centered[13]   -0.0946    0.0000       NaN        NaN        N ⋯\n",
       "  rt_params_non_centered[14]    0.0733    0.0000    0.0000        NaN        N ⋯\n",
       "  rt_params_non_centered[15]   -2.5269    0.0000    0.0000        NaN        N ⋯\n",
       "  rt_params_non_centered[16]    0.5079    0.0000       NaN        NaN        N ⋯\n",
       "  rt_params_non_centered[17]   -1.6571    0.0000    0.0000        NaN        N ⋯\n",
       "  rt_params_non_centered[18]   -2.2005    0.0000       NaN        NaN        N ⋯\n",
       "  rt_params_non_centered[19]    0.4103    0.0000       NaN        NaN        N ⋯\n",
       "  rt_params_non_centered[20]    0.8351    0.0000       NaN        NaN        N ⋯\n",
       "  rt_params_non_centered[21]    1.0485    0.0000       NaN        NaN        N ⋯\n",
       "  rt_params_non_centered[22]   -0.2029    0.0000       NaN        NaN        N ⋯\n",
       "  rt_params_non_centered[23]   -1.0322    0.0000       NaN        NaN        N ⋯\n",
       "              ⋮                   ⋮         ⋮         ⋮         ⋮          ⋮   ⋱\n",
       "\u001b[36m                                                   3 columns and 43 rows omitted\u001b[0m\n",
       "\n",
       "Quantiles\n",
       " \u001b[1m                 parameters \u001b[0m \u001b[1m    2.5% \u001b[0m \u001b[1m   25.0% \u001b[0m \u001b[1m   50.0% \u001b[0m \u001b[1m   75.0% \u001b[0m \u001b[1m   97.5%\u001b[0m ⋯\n",
       " \u001b[90m                     Symbol \u001b[0m \u001b[90m Float64 \u001b[0m \u001b[90m Float64 \u001b[0m \u001b[90m Float64 \u001b[0m \u001b[90m Float64 \u001b[0m \u001b[90m Float64\u001b[0m ⋯\n",
       "\n",
       "   rt_params_non_centered[1]    0.1596    0.1596    0.1596    0.1596    0.1596 ⋯\n",
       "   rt_params_non_centered[2]   -1.4548   -1.4548   -1.4548   -1.4548   -1.4548 ⋯\n",
       "   rt_params_non_centered[3]   -3.0254   -3.0254   -3.0254   -3.0254   -3.0254 ⋯\n",
       "   rt_params_non_centered[4]   -1.6110   -1.6110   -1.6110   -1.6110   -1.6110 ⋯\n",
       "   rt_params_non_centered[5]   -0.5653   -0.5653   -0.5653   -0.5653   -0.5653 ⋯\n",
       "   rt_params_non_centered[6]   -0.1974   -0.1974   -0.1974   -0.1974   -0.1974 ⋯\n",
       "   rt_params_non_centered[7]    0.1173    0.1173    0.1173    0.1173    0.1173 ⋯\n",
       "   rt_params_non_centered[8]   -0.3005   -0.3005   -0.3005   -0.3005   -0.3005 ⋯\n",
       "   rt_params_non_centered[9]   -0.5733   -0.5733   -0.5733   -0.5733   -0.5733 ⋯\n",
       "  rt_params_non_centered[10]    0.1031    0.1031    0.1031    0.1031    0.1031 ⋯\n",
       "  rt_params_non_centered[11]    1.4035    1.4035    1.4035    1.4035    1.4035 ⋯\n",
       "  rt_params_non_centered[12]    1.0047    1.0047    1.0047    1.0047    1.0047 ⋯\n",
       "  rt_params_non_centered[13]   -0.0946   -0.0946   -0.0946   -0.0946   -0.0946 ⋯\n",
       "  rt_params_non_centered[14]    0.0733    0.0733    0.0733    0.0733    0.0733 ⋯\n",
       "  rt_params_non_centered[15]   -2.5269   -2.5269   -2.5269   -2.5269   -2.5269 ⋯\n",
       "  rt_params_non_centered[16]    0.5079    0.5079    0.5079    0.5079    0.5079 ⋯\n",
       "  rt_params_non_centered[17]   -1.6571   -1.6571   -1.6571   -1.6571   -1.6571 ⋯\n",
       "  rt_params_non_centered[18]   -2.2005   -2.2005   -2.2005   -2.2005   -2.2005 ⋯\n",
       "  rt_params_non_centered[19]    0.4103    0.4103    0.4103    0.4103    0.4103 ⋯\n",
       "  rt_params_non_centered[20]    0.8351    0.8351    0.8351    0.8351    0.8351 ⋯\n",
       "  rt_params_non_centered[21]    1.0485    1.0485    1.0485    1.0485    1.0485 ⋯\n",
       "  rt_params_non_centered[22]   -0.2029   -0.2029   -0.2029   -0.2029   -0.2029 ⋯\n",
       "  rt_params_non_centered[23]   -1.0322   -1.0322   -1.0322   -1.0322   -1.0322 ⋯\n",
       "              ⋮                   ⋮         ⋮         ⋮         ⋮         ⋮    ⋱\n",
       "\u001b[36m                                                                 43 rows omitted\u001b[0m\n"
      ]
     },
     "execution_count": 53,
     "metadata": {},
     "output_type": "execute_result"
    }
   ],
   "source": [
    "Random.seed!(seed)\n",
    "posterior_samples = sample(my_model, NUTS(), MCMCThreads(), n_samples, n_chains, discard_initial = n_samples, init_params = init)"
   ]
  },
  {
   "cell_type": "code",
   "execution_count": 54,
   "id": "a72610d9-fb9f-400f-b46c-61c47a1a574b",
   "metadata": {},
   "outputs": [
    {
     "data": {
      "text/plain": [
       "\"/Users/kyleconroy/desktop/ww_paper-1/vignettes/posterior_df_scenarioreal_seed1.csv\""
      ]
     },
     "execution_count": 54,
     "metadata": {},
     "output_type": "execute_result"
    }
   ],
   "source": [
    " missing_log_copies = repeat([missing], length(data_log_copies))\n",
    "  \n",
    "  my_model_forecast_missing = new_bayes_eirrc_closed!(\n",
    "    outs_tmp, \n",
    "    missing_log_copies,\n",
    "    obstimes,\n",
    "    param_change_times,\n",
    "    grid_size,\n",
    "    index)\n",
    "  \n",
    "# sometimes there are NAs in the final posterior, this removes those samples\n",
    "indices_to_keep = .!isnothing.(generated_quantities(my_model, posterior_samples));\n",
    "\n",
    "posterior_samples_randn = ChainsCustomIndex(posterior_samples, indices_to_keep);\n",
    "\n",
    "# posterior predictive output\n",
    "Random.seed!(seed)\n",
    "predictive_randn = predict(my_model_forecast_missing, posterior_samples_randn)\n",
    "\n",
    "# properly scaled posterior output\n",
    "Random.seed!(seed)\n",
    "gq_randn = get_gq_chains(my_model, posterior_samples_randn);\n",
    "\n",
    "CSV.write(projectdir(\"vignettes\", string(\"generated_quantities\", \"_scenario\", sim, \"_seed\", seed, \".csv\")), DataFrame(gq_randn))\n",
    "CSV.write(projectdir(\"vignettes\", string(\"posterior_predictive\", \"_scenario\", sim, \"_seed\", seed,  \".csv\")), DataFrame(predictive_randn))\n",
    "\n",
    "# this dataframe is saved in order to later visualize traces of the log likelihood \n",
    "posterior_df = DataFrame(posterior_samples)\n",
    "CSV.write(projectdir(\"vignettes\", string(\"posterior_df\", \"_scenario\", sim, \"_seed\", seed, \".csv\")), DataFrame(posterior_samples))"
   ]
  },
  {
   "cell_type": "code",
   "execution_count": 55,
   "id": "d1f2138c-0f25-4348-812d-35be734eaa9a",
   "metadata": {},
   "outputs": [
    {
     "data": {
      "text/plain": [
       "Chains MCMC chain (400×2780×1 Array{Float64, 3}):\n",
       "\n",
       "Iterations        = 1:1:400\n",
       "Number of chains  = 1\n",
       "Samples per chain = 400\n",
       "parameters        = gamma, nu, eta, rho_gene, rt_init, sigma_rt, tau, lambda, df, E_init, I_init, R1_init, alpha_t_values[0], alpha_t_values[1], alpha_t_values[2], alpha_t_values[3], alpha_t_values[4], alpha_t_values[5], alpha_t_values[6], alpha_t_values[7], alpha_t_values[8], alpha_t_values[9], alpha_t_values[10], alpha_t_values[11], alpha_t_values[12], alpha_t_values[13], alpha_t_values[14], alpha_t_values[15], alpha_t_values[16], alpha_t_values[17], alpha_t_values[18], alpha_t_values[19], alpha_t_values[20], alpha_t_values[21], alpha_t_values[22], alpha_t_values[23], alpha_t_values[24], alpha_t_values[25], alpha_t_values[26], alpha_t_values[27], alpha_t_values[28], alpha_t_values[29], alpha_t_values[30], alpha_t_values[31], alpha_t_values[32], alpha_t_values[33], alpha_t_values[34], alpha_t_values[35], alpha_t_values[36], alpha_t_values[37], alpha_t_values[38], alpha_t_values[39], alpha_t_values[40], alpha_t_values[41], alpha_t_values[42], alpha_t_values[43], alpha_t_values[44], alpha_t_values[45], alpha_t_values[46], alpha_t_values[47], alpha_t_values[48], alpha_t_values[49], alpha_t_values[50], alpha_t_values[51], alpha_t_values[52], alpha_t_values[53], alpha_t_values[54], rt_t_values[0], rt_t_values[1], rt_t_values[2], rt_t_values[3], rt_t_values[4], rt_t_values[5], rt_t_values[6], rt_t_values[7], rt_t_values[8], rt_t_values[9], rt_t_values[10], rt_t_values[11], rt_t_values[12], rt_t_values[13], rt_t_values[14], rt_t_values[15], rt_t_values[16], rt_t_values[17], rt_t_values[18], rt_t_values[19], rt_t_values[20], rt_t_values[21], rt_t_values[22], rt_t_values[23], rt_t_values[24], rt_t_values[25], rt_t_values[26], rt_t_values[27], rt_t_values[28], rt_t_values[29], rt_t_values[30], rt_t_values[31], rt_t_values[32], rt_t_values[33], rt_t_values[34], rt_t_values[35], rt_t_values[36], rt_t_values[37], rt_t_values[38], rt_t_values[39], rt_t_values[40], rt_t_values[41], rt_t_values[42], rt_t_values[43], rt_t_values[44], rt_t_values[45], rt_t_values[46], rt_t_values[47], rt_t_values[48], rt_t_values[49], rt_t_values[50], rt_t_values[51], rt_t_values[52], rt_t_values[53], rt_t_values[54], E[0], E[1], E[2], E[3], E[4], E[5], E[6], E[7], E[8], E[9], E[10], E[11], E[12], E[13], E[14], E[15], E[16], E[17], E[18], E[19], E[20], E[21], E[22], E[23], E[24], E[25], E[26], E[27], E[28], E[29], E[30], E[31], E[32], E[33], E[34], E[35], E[36], E[37], E[38], E[39], E[40], E[41], E[42], E[43], E[44], E[45], E[46], E[47], E[48], E[49], E[50], E[51], E[52], E[53], E[54], E[55], E[56], E[57], E[58], E[59], E[60], E[61], E[62], E[63], E[64], E[65], E[66], E[67], E[68], E[69], E[70], E[71], E[72], E[73], E[74], E[75], E[76], E[77], E[78], E[79], E[80], E[81], E[82], E[83], E[84], E[85], E[86], E[87], E[88], E[89], E[90], E[91], E[92], E[93], E[94], E[95], E[96], E[97], E[98], E[99], E[100], E[101], E[102], E[103], E[104], E[105], E[106], E[107], E[108], E[109], E[110], E[111], E[112], E[113], E[114], E[115], E[116], E[117], E[118], E[119], E[120], E[121], E[122], E[123], E[124], E[125], E[126], E[127], E[128], E[129], E[130], E[131], E[132], E[133], E[134], E[135], E[136], E[137], E[138], E[139], E[140], E[141], E[142], E[143], E[144], E[145], E[146], E[147], E[148], E[149], E[150], E[151], E[152], E[153], E[154], E[155], E[156], E[157], E[158], E[159], E[160], E[161], E[162], E[163], E[164], E[165], E[166], E[167], E[168], E[169], E[170], E[171], E[172], E[173], E[174], E[175], E[176], E[177], E[178], E[179], E[180], E[181], E[182], E[183], E[184], E[185], E[186], E[187], E[188], E[189], E[190], E[191], E[192], E[193], E[194], E[195], E[196], E[197], E[198], E[199], E[200], E[201], E[202], E[203], E[204], E[205], E[206], E[207], E[208], E[209], E[210], E[211], E[212], E[213], E[214], E[215], E[216], E[217], E[218], E[219], E[220], E[221], E[222], E[223], E[224], E[225], E[226], E[227], E[228], E[229], E[230], E[231], E[232], E[233], E[234], E[235], E[236], E[237], E[238], E[239], E[240], E[241], E[242], E[243], E[244], E[245], E[246], E[247], E[248], E[249], E[250], E[251], E[252], E[253], E[254], E[255], E[256], E[257], E[258], E[259], E[260], E[261], E[262], E[263], E[264], E[265], E[266], E[267], E[268], E[269], E[270], E[271], E[272], E[273], E[274], E[275], E[276], E[277], E[278], E[279], E[280], E[281], E[282], E[283], E[284], E[285], E[286], E[287], E[288], E[289], E[290], E[291], E[292], E[293], E[294], E[295], E[296], E[297], E[298], E[299], E[300], E[301], E[302], E[303], E[304], E[305], E[306], E[307], E[308], E[309], E[310], E[311], E[312], E[313], E[314], E[315], E[316], E[317], E[318], E[319], E[320], E[321], E[322], E[323], E[324], E[325], E[326], E[327], E[328], E[329], E[330], E[331], E[332], E[333], E[334], E[335], E[336], E[337], E[338], E[339], E[340], E[341], E[342], E[343], E[344], E[345], E[346], E[347], E[348], E[349], E[350], E[351], E[352], E[353], E[354], E[355], E[356], E[357], E[358], E[359], E[360], E[361], E[362], E[363], E[364], E[365], E[366], E[367], E[368], E[369], E[370], E[371], E[372], E[373], E[374], E[375], E[376], E[377], E[378], E[379], I[0], I[1], I[2], I[3], I[4], I[5], I[6], I[7], I[8], I[9], I[10], I[11], I[12], I[13], I[14], I[15], I[16], I[17], I[18], I[19], I[20], I[21], I[22], I[23], I[24], I[25], I[26], I[27], I[28], I[29], I[30], I[31], I[32], I[33], I[34], I[35], I[36], I[37], I[38], I[39], I[40], I[41], I[42], I[43], I[44], I[45], I[46], I[47], I[48], I[49], I[50], I[51], I[52], I[53], I[54], I[55], I[56], I[57], I[58], I[59], I[60], I[61], I[62], I[63], I[64], I[65], I[66], I[67], I[68], I[69], I[70], I[71], I[72], I[73], I[74], I[75], I[76], I[77], I[78], I[79], I[80], I[81], I[82], I[83], I[84], I[85], I[86], I[87], I[88], I[89], I[90], I[91], I[92], I[93], I[94], I[95], I[96], I[97], I[98], I[99], I[100], I[101], I[102], I[103], I[104], I[105], I[106], I[107], I[108], I[109], I[110], I[111], I[112], I[113], I[114], I[115], I[116], I[117], I[118], I[119], I[120], I[121], I[122], I[123], I[124], I[125], I[126], I[127], I[128], I[129], I[130], I[131], I[132], I[133], I[134], I[135], I[136], I[137], I[138], I[139], I[140], I[141], I[142], I[143], I[144], I[145], I[146], I[147], I[148], I[149], I[150], I[151], I[152], I[153], I[154], I[155], I[156], I[157], I[158], I[159], I[160], I[161], I[162], I[163], I[164], I[165], I[166], I[167], I[168], I[169], I[170], I[171], I[172], I[173], I[174], I[175], I[176], I[177], I[178], I[179], I[180], I[181], I[182], I[183], I[184], I[185], I[186], I[187], I[188], I[189], I[190], I[191], I[192], I[193], I[194], I[195], I[196], I[197], I[198], I[199], I[200], I[201], I[202], I[203], I[204], I[205], I[206], I[207], I[208], I[209], I[210], I[211], I[212], I[213], I[214], I[215], I[216], I[217], I[218], I[219], I[220], I[221], I[222], I[223], I[224], I[225], I[226], I[227], I[228], I[229], I[230], I[231], I[232], I[233], I[234], I[235], I[236], I[237], I[238], I[239], I[240], I[241], I[242], I[243], I[244], I[245], I[246], I[247], I[248], I[249], I[250], I[251], I[252], I[253], I[254], I[255], I[256], I[257], I[258], I[259], I[260], I[261], I[262], I[263], I[264], I[265], I[266], I[267], I[268], I[269], I[270], I[271], I[272], I[273], I[274], I[275], I[276], I[277], I[278], I[279], I[280], I[281], I[282], I[283], I[284], I[285], I[286], I[287], I[288], I[289], I[290], I[291], I[292], I[293], I[294], I[295], I[296], I[297], I[298], I[299], I[300], I[301], I[302], I[303], I[304], I[305], I[306], I[307], I[308], I[309], I[310], I[311], I[312], I[313], I[314], I[315], I[316], I[317], I[318], I[319], I[320], I[321], I[322], I[323], I[324], I[325], I[326], I[327], I[328], I[329], I[330], I[331], I[332], I[333], I[334], I[335], I[336], I[337], I[338], I[339], I[340], I[341], I[342], I[343], I[344], I[345], I[346], I[347], I[348], I[349], I[350], I[351], I[352], I[353], I[354], I[355], I[356], I[357], I[358], I[359], I[360], I[361], I[362], I[363], I[364], I[365], I[366], I[367], I[368], I[369], I[370], I[371], I[372], I[373], I[374], I[375], I[376], I[377], I[378], I[379], R1[0], R1[1], R1[2], R1[3], R1[4], R1[5], R1[6], R1[7], R1[8], R1[9], R1[10], R1[11], R1[12], R1[13], R1[14], R1[15], R1[16], R1[17], R1[18], R1[19], R1[20], R1[21], R1[22], R1[23], R1[24], R1[25], R1[26], R1[27], R1[28], R1[29], R1[30], R1[31], R1[32], R1[33], R1[34], R1[35], R1[36], R1[37], R1[38], R1[39], R1[40], R1[41], R1[42], R1[43], R1[44], R1[45], R1[46], R1[47], R1[48], R1[49], R1[50], R1[51], R1[52], R1[53], R1[54], R1[55], R1[56], R1[57], R1[58], R1[59], R1[60], R1[61], R1[62], R1[63], R1[64], R1[65], R1[66], R1[67], R1[68], R1[69], R1[70], R1[71], R1[72], R1[73], R1[74], R1[75], R1[76], R1[77], R1[78], R1[79], R1[80], R1[81], R1[82], R1[83], R1[84], R1[85], R1[86], R1[87], R1[88], R1[89], R1[90], R1[91], R1[92], R1[93], R1[94], R1[95], R1[96], R1[97], R1[98], R1[99], R1[100], R1[101], R1[102], R1[103], R1[104], R1[105], R1[106], R1[107], R1[108], R1[109], R1[110], R1[111], R1[112], R1[113], R1[114], R1[115], R1[116], R1[117], R1[118], R1[119], R1[120], R1[121], R1[122], R1[123], R1[124], R1[125], R1[126], R1[127], R1[128], R1[129], R1[130], R1[131], R1[132], R1[133], R1[134], R1[135], R1[136], R1[137], R1[138], R1[139], R1[140], R1[141], R1[142], R1[143], R1[144], R1[145], R1[146], R1[147], R1[148], R1[149], R1[150], R1[151], R1[152], R1[153], R1[154], R1[155], R1[156], R1[157], R1[158], R1[159], R1[160], R1[161], R1[162], R1[163], R1[164], R1[165], R1[166], R1[167], R1[168], R1[169], R1[170], R1[171], R1[172], R1[173], R1[174], R1[175], R1[176], R1[177], R1[178], R1[179], R1[180], R1[181], R1[182], R1[183], R1[184], R1[185], R1[186], R1[187], R1[188], R1[189], R1[190], R1[191], R1[192], R1[193], R1[194], R1[195], R1[196], R1[197], R1[198], R1[199], R1[200], R1[201], R1[202], R1[203], R1[204], R1[205], R1[206], R1[207], R1[208], R1[209], R1[210], R1[211], R1[212], R1[213], R1[214], R1[215], R1[216], R1[217], R1[218], R1[219], R1[220], R1[221], R1[222], R1[223], R1[224], R1[225], R1[226], R1[227], R1[228], R1[229], R1[230], R1[231], R1[232], R1[233], R1[234], R1[235], R1[236], R1[237], R1[238], R1[239], R1[240], R1[241], R1[242], R1[243], R1[244], R1[245], R1[246], R1[247], R1[248], R1[249], R1[250], R1[251], R1[252], R1[253], R1[254], R1[255], R1[256], R1[257], R1[258], R1[259], R1[260], R1[261], R1[262], R1[263], R1[264], R1[265], R1[266], R1[267], R1[268], R1[269], R1[270], R1[271], R1[272], R1[273], R1[274], R1[275], R1[276], R1[277], R1[278], R1[279], R1[280], R1[281], R1[282], R1[283], R1[284], R1[285], R1[286], R1[287], R1[288], R1[289], R1[290], R1[291], R1[292], R1[293], R1[294], R1[295], R1[296], R1[297], R1[298], R1[299], R1[300], R1[301], R1[302], R1[303], R1[304], R1[305], R1[306], R1[307], R1[308], R1[309], R1[310], R1[311], R1[312], R1[313], R1[314], R1[315], R1[316], R1[317], R1[318], R1[319], R1[320], R1[321], R1[322], R1[323], R1[324], R1[325], R1[326], R1[327], R1[328], R1[329], R1[330], R1[331], R1[332], R1[333], R1[334], R1[335], R1[336], R1[337], R1[338], R1[339], R1[340], R1[341], R1[342], R1[343], R1[344], R1[345], R1[346], R1[347], R1[348], R1[349], R1[350], R1[351], R1[352], R1[353], R1[354], R1[355], R1[356], R1[357], R1[358], R1[359], R1[360], R1[361], R1[362], R1[363], R1[364], R1[365], R1[366], R1[367], R1[368], R1[369], R1[370], R1[371], R1[372], R1[373], R1[374], R1[375], R1[376], R1[377], R1[378], R1[379], R2[0], R2[1], R2[2], R2[3], R2[4], R2[5], R2[6], R2[7], R2[8], R2[9], R2[10], R2[11], R2[12], R2[13], R2[14], R2[15], R2[16], R2[17], R2[18], R2[19], R2[20], R2[21], R2[22], R2[23], R2[24], R2[25], R2[26], R2[27], R2[28], R2[29], R2[30], R2[31], R2[32], R2[33], R2[34], R2[35], R2[36], R2[37], R2[38], R2[39], R2[40], R2[41], R2[42], R2[43], R2[44], R2[45], R2[46], R2[47], R2[48], R2[49], R2[50], R2[51], R2[52], R2[53], R2[54], R2[55], R2[56], R2[57], R2[58], R2[59], R2[60], R2[61], R2[62], R2[63], R2[64], R2[65], R2[66], R2[67], R2[68], R2[69], R2[70], R2[71], R2[72], R2[73], R2[74], R2[75], R2[76], R2[77], R2[78], R2[79], R2[80], R2[81], R2[82], R2[83], R2[84], R2[85], R2[86], R2[87], R2[88], R2[89], R2[90], R2[91], R2[92], R2[93], R2[94], R2[95], R2[96], R2[97], R2[98], R2[99], R2[100], R2[101], R2[102], R2[103], R2[104], R2[105], R2[106], R2[107], R2[108], R2[109], R2[110], R2[111], R2[112], R2[113], R2[114], R2[115], R2[116], R2[117], R2[118], R2[119], R2[120], R2[121], R2[122], R2[123], R2[124], R2[125], R2[126], R2[127], R2[128], R2[129], R2[130], R2[131], R2[132], R2[133], R2[134], R2[135], R2[136], R2[137], R2[138], R2[139], R2[140], R2[141], R2[142], R2[143], R2[144], R2[145], R2[146], R2[147], R2[148], R2[149], R2[150], R2[151], R2[152], R2[153], R2[154], R2[155], R2[156], R2[157], R2[158], R2[159], R2[160], R2[161], R2[162], R2[163], R2[164], R2[165], R2[166], R2[167], R2[168], R2[169], R2[170], R2[171], R2[172], R2[173], R2[174], R2[175], R2[176], R2[177], R2[178], R2[179], R2[180], R2[181], R2[182], R2[183], R2[184], R2[185], R2[186], R2[187], R2[188], R2[189], R2[190], R2[191], R2[192], R2[193], R2[194], R2[195], R2[196], R2[197], R2[198], R2[199], R2[200], R2[201], R2[202], R2[203], R2[204], R2[205], R2[206], R2[207], R2[208], R2[209], R2[210], R2[211], R2[212], R2[213], R2[214], R2[215], R2[216], R2[217], R2[218], R2[219], R2[220], R2[221], R2[222], R2[223], R2[224], R2[225], R2[226], R2[227], R2[228], R2[229], R2[230], R2[231], R2[232], R2[233], R2[234], R2[235], R2[236], R2[237], R2[238], R2[239], R2[240], R2[241], R2[242], R2[243], R2[244], R2[245], R2[246], R2[247], R2[248], R2[249], R2[250], R2[251], R2[252], R2[253], R2[254], R2[255], R2[256], R2[257], R2[258], R2[259], R2[260], R2[261], R2[262], R2[263], R2[264], R2[265], R2[266], R2[267], R2[268], R2[269], R2[270], R2[271], R2[272], R2[273], R2[274], R2[275], R2[276], R2[277], R2[278], R2[279], R2[280], R2[281], R2[282], R2[283], R2[284], R2[285], R2[286], R2[287], R2[288], R2[289], R2[290], R2[291], R2[292], R2[293], R2[294], R2[295], R2[296], R2[297], R2[298], R2[299], R2[300], R2[301], R2[302], R2[303], R2[304], R2[305], R2[306], R2[307], R2[308], R2[309], R2[310], R2[311], R2[312], R2[313], R2[314], R2[315], R2[316], R2[317], R2[318], R2[319], R2[320], R2[321], R2[322], R2[323], R2[324], R2[325], R2[326], R2[327], R2[328], R2[329], R2[330], R2[331], R2[332], R2[333], R2[334], R2[335], R2[336], R2[337], R2[338], R2[339], R2[340], R2[341], R2[342], R2[343], R2[344], R2[345], R2[346], R2[347], R2[348], R2[349], R2[350], R2[351], R2[352], R2[353], R2[354], R2[355], R2[356], R2[357], R2[358], R2[359], R2[360], R2[361], R2[362], R2[363], R2[364], R2[365], R2[366], R2[367], R2[368], R2[369], R2[370], R2[371], R2[372], R2[373], R2[374], R2[375], R2[376], R2[377], R2[378], R2[379], C[0], C[1], C[2], C[3], C[4], C[5], C[6], C[7], C[8], C[9], C[10], C[11], C[12], C[13], C[14], C[15], C[16], C[17], C[18], C[19], C[20], C[21], C[22], C[23], C[24], C[25], C[26], C[27], C[28], C[29], C[30], C[31], C[32], C[33], C[34], C[35], C[36], C[37], C[38], C[39], C[40], C[41], C[42], C[43], C[44], C[45], C[46], C[47], C[48], C[49], C[50], C[51], C[52], C[53], C[54], C[55], C[56], C[57], C[58], C[59], C[60], C[61], C[62], C[63], C[64], C[65], C[66], C[67], C[68], C[69], C[70], C[71], C[72], C[73], C[74], C[75], C[76], C[77], C[78], C[79], C[80], C[81], C[82], C[83], C[84], C[85], C[86], C[87], C[88], C[89], C[90], C[91], C[92], C[93], C[94], C[95], C[96], C[97], C[98], C[99], C[100], C[101], C[102], C[103], C[104], C[105], C[106], C[107], C[108], C[109], C[110], C[111], C[112], C[113], C[114], C[115], C[116], C[117], C[118], C[119], C[120], C[121], C[122], C[123], C[124], C[125], C[126], C[127], C[128], C[129], C[130], C[131], C[132], C[133], C[134], C[135], C[136], C[137], C[138], C[139], C[140], C[141], C[142], C[143], C[144], C[145], C[146], C[147], C[148], C[149], C[150], C[151], C[152], C[153], C[154], C[155], C[156], C[157], C[158], C[159], C[160], C[161], C[162], C[163], C[164], C[165], C[166], C[167], C[168], C[169], C[170], C[171], C[172], C[173], C[174], C[175], C[176], C[177], C[178], C[179], C[180], C[181], C[182], C[183], C[184], C[185], C[186], C[187], C[188], C[189], C[190], C[191], C[192], C[193], C[194], C[195], C[196], C[197], C[198], C[199], C[200], C[201], C[202], C[203], C[204], C[205], C[206], C[207], C[208], C[209], C[210], C[211], C[212], C[213], C[214], C[215], C[216], C[217], C[218], C[219], C[220], C[221], C[222], C[223], C[224], C[225], C[226], C[227], C[228], C[229], C[230], C[231], C[232], C[233], C[234], C[235], C[236], C[237], C[238], C[239], C[240], C[241], C[242], C[243], C[244], C[245], C[246], C[247], C[248], C[249], C[250], C[251], C[252], C[253], C[254], C[255], C[256], C[257], C[258], C[259], C[260], C[261], C[262], C[263], C[264], C[265], C[266], C[267], C[268], C[269], C[270], C[271], C[272], C[273], C[274], C[275], C[276], C[277], C[278], C[279], C[280], C[281], C[282], C[283], C[284], C[285], C[286], C[287], C[288], C[289], C[290], C[291], C[292], C[293], C[294], C[295], C[296], C[297], C[298], C[299], C[300], C[301], C[302], C[303], C[304], C[305], C[306], C[307], C[308], C[309], C[310], C[311], C[312], C[313], C[314], C[315], C[316], C[317], C[318], C[319], C[320], C[321], C[322], C[323], C[324], C[325], C[326], C[327], C[328], C[329], C[330], C[331], C[332], C[333], C[334], C[335], C[336], C[337], C[338], C[339], C[340], C[341], C[342], C[343], C[344], C[345], C[346], C[347], C[348], C[349], C[350], C[351], C[352], C[353], C[354], C[355], C[356], C[357], C[358], C[359], C[360], C[361], C[362], C[363], C[364], C[365], C[366], C[367], C[368], C[369], C[370], C[371], C[372], C[373], C[374], C[375], C[376], C[377], C[378], C[379], incid[0], incid[1], incid[2], incid[3], incid[4], incid[5], incid[6], incid[7], incid[8], incid[9], incid[10], incid[11], incid[12], incid[13], incid[14], incid[15], incid[16], incid[17], incid[18], incid[19], incid[20], incid[21], incid[22], incid[23], incid[24], incid[25], incid[26], incid[27], incid[28], incid[29], incid[30], incid[31], incid[32], incid[33], incid[34], incid[35], incid[36], incid[37], incid[38], incid[39], incid[40], incid[41], incid[42], incid[43], incid[44], incid[45], incid[46], incid[47], incid[48], incid[49], incid[50], incid[51], incid[52], incid[53], incid[54], incid[55], incid[56], incid[57], incid[58], incid[59], incid[60], incid[61], incid[62], incid[63], incid[64], incid[65], incid[66], incid[67], incid[68], incid[69], incid[70], incid[71], incid[72], incid[73], incid[74], incid[75], incid[76], incid[77], incid[78], incid[79], incid[80], incid[81], incid[82], incid[83], incid[84], incid[85], incid[86], incid[87], incid[88], incid[89], incid[90], incid[91], incid[92], incid[93], incid[94], incid[95], incid[96], incid[97], incid[98], incid[99], incid[100], incid[101], incid[102], incid[103], incid[104], incid[105], incid[106], incid[107], incid[108], incid[109], incid[110], incid[111], incid[112], incid[113], incid[114], incid[115], incid[116], incid[117], incid[118], incid[119], incid[120], incid[121], incid[122], incid[123], incid[124], incid[125], incid[126], incid[127], incid[128], incid[129], incid[130], incid[131], incid[132], incid[133], incid[134], incid[135], incid[136], incid[137], incid[138], incid[139], incid[140], incid[141], incid[142], incid[143], incid[144], incid[145], incid[146], incid[147], incid[148], incid[149], incid[150], incid[151], incid[152], incid[153], incid[154], incid[155], incid[156], incid[157], incid[158], incid[159], incid[160], incid[161], incid[162], incid[163], incid[164], incid[165], incid[166], incid[167], incid[168], incid[169], incid[170], incid[171], incid[172], incid[173], incid[174], incid[175], incid[176], incid[177], incid[178], incid[179], incid[180], incid[181], incid[182], incid[183], incid[184], incid[185], incid[186], incid[187], incid[188], incid[189], incid[190], incid[191], incid[192], incid[193], incid[194], incid[195], incid[196], incid[197], incid[198], incid[199], incid[200], incid[201], incid[202], incid[203], incid[204], incid[205], incid[206], incid[207], incid[208], incid[209], incid[210], incid[211], incid[212], incid[213], incid[214], incid[215], incid[216], incid[217], incid[218], incid[219], incid[220], incid[221], incid[222], incid[223], incid[224], incid[225], incid[226], incid[227], incid[228], incid[229], incid[230], incid[231], incid[232], incid[233], incid[234], incid[235], incid[236], incid[237], incid[238], incid[239], incid[240], incid[241], incid[242], incid[243], incid[244], incid[245], incid[246], incid[247], incid[248], incid[249], incid[250], incid[251], incid[252], incid[253], incid[254], incid[255], incid[256], incid[257], incid[258], incid[259], incid[260], incid[261], incid[262], incid[263], incid[264], incid[265], incid[266], incid[267], incid[268], incid[269], incid[270], incid[271], incid[272], incid[273], incid[274], incid[275], incid[276], incid[277], incid[278], incid[279], incid[280], incid[281], incid[282], incid[283], incid[284], incid[285], incid[286], incid[287], incid[288], incid[289], incid[290], incid[291], incid[292], incid[293], incid[294], incid[295], incid[296], incid[297], incid[298], incid[299], incid[300], incid[301], incid[302], incid[303], incid[304], incid[305], incid[306], incid[307], incid[308], incid[309], incid[310], incid[311], incid[312], incid[313], incid[314], incid[315], incid[316], incid[317], incid[318], incid[319], incid[320], incid[321], incid[322], incid[323], incid[324], incid[325], incid[326], incid[327], incid[328], incid[329], incid[330], incid[331], incid[332], incid[333], incid[334], incid[335], incid[336], incid[337], incid[338], incid[339], incid[340], incid[341], incid[342], incid[343], incid[344], incid[345], incid[346], incid[347], incid[348], incid[349], incid[350], incid[351], incid[352], incid[353], incid[354], incid[355], incid[356], incid[357], incid[358], incid[359], incid[360], incid[361], incid[362], incid[363], incid[364], incid[365], incid[366], incid[367], incid[368], incid[369], incid[370], incid[371], incid[372], incid[373], incid[374], incid[375], incid[376], incid[377], incid[378], log_genes_mean[0], log_genes_mean[1], log_genes_mean[2], log_genes_mean[3], log_genes_mean[4], log_genes_mean[5], log_genes_mean[6], log_genes_mean[7], log_genes_mean[8], log_genes_mean[9], log_genes_mean[10], log_genes_mean[11], log_genes_mean[12], log_genes_mean[13], log_genes_mean[14], log_genes_mean[15], log_genes_mean[16], log_genes_mean[17], log_genes_mean[18], log_genes_mean[19], log_genes_mean[20], log_genes_mean[21], log_genes_mean[22], log_genes_mean[23], log_genes_mean[24], log_genes_mean[25], log_genes_mean[26], log_genes_mean[27], log_genes_mean[28], log_genes_mean[29], log_genes_mean[30], log_genes_mean[31], log_genes_mean[32], log_genes_mean[33], log_genes_mean[34], log_genes_mean[35], log_genes_mean[36], log_genes_mean[37], log_genes_mean[38], log_genes_mean[39], log_genes_mean[40], log_genes_mean[41], log_genes_mean[42], log_genes_mean[43], log_genes_mean[44], log_genes_mean[45], log_genes_mean[46], log_genes_mean[47], log_genes_mean[48], log_genes_mean[49], log_genes_mean[50], log_genes_mean[51], log_genes_mean[52], log_genes_mean[53], log_genes_mean[54], log_genes_mean[55], log_genes_mean[56], log_genes_mean[57], log_genes_mean[58], log_genes_mean[59], log_genes_mean[60], log_genes_mean[61], log_genes_mean[62], log_genes_mean[63], log_genes_mean[64], log_genes_mean[65], log_genes_mean[66], log_genes_mean[67], log_genes_mean[68], log_genes_mean[69], log_genes_mean[70], log_genes_mean[71], log_genes_mean[72], log_genes_mean[73], log_genes_mean[74], log_genes_mean[75], log_genes_mean[76], log_genes_mean[77], log_genes_mean[78], log_genes_mean[79], log_genes_mean[80], log_genes_mean[81], log_genes_mean[82], log_genes_mean[83], log_genes_mean[84], log_genes_mean[85], log_genes_mean[86], log_genes_mean[87], log_genes_mean[88], log_genes_mean[89], log_genes_mean[90], log_genes_mean[91], log_genes_mean[92], log_genes_mean[93], log_genes_mean[94], log_genes_mean[95], log_genes_mean[96], log_genes_mean[97], log_genes_mean[98], log_genes_mean[99], log_genes_mean[100], log_genes_mean[101], log_genes_mean[102], log_genes_mean[103], log_genes_mean[104], log_genes_mean[105], log_genes_mean[106], log_genes_mean[107], log_genes_mean[108], log_genes_mean[109], log_genes_mean[110], log_genes_mean[111], log_genes_mean[112], log_genes_mean[113], log_genes_mean[114], log_genes_mean[115], log_genes_mean[116], log_genes_mean[117], log_genes_mean[118], log_genes_mean[119], log_genes_mean[120], log_genes_mean[121], log_genes_mean[122], log_genes_mean[123], log_genes_mean[124], log_genes_mean[125], log_genes_mean[126], log_genes_mean[127], log_genes_mean[128], log_genes_mean[129], log_genes_mean[130], log_genes_mean[131], log_genes_mean[132], log_genes_mean[133], log_genes_mean[134], log_genes_mean[135], log_genes_mean[136], log_genes_mean[137], log_genes_mean[138], log_genes_mean[139], log_genes_mean[140], log_genes_mean[141], log_genes_mean[142], log_genes_mean[143], log_genes_mean[144], log_genes_mean[145], log_genes_mean[146], log_genes_mean[147], log_genes_mean[148], log_genes_mean[149], log_genes_mean[150], log_genes_mean[151], log_genes_mean[152], log_genes_mean[153], log_genes_mean[154], log_genes_mean[155], log_genes_mean[156], log_genes_mean[157], log_genes_mean[158], log_genes_mean[159], log_genes_mean[160], log_genes_mean[161], log_genes_mean[162], log_genes_mean[163], log_genes_mean[164], log_genes_mean[165], log_genes_mean[166], log_genes_mean[167], log_genes_mean[168], log_genes_mean[169], log_genes_mean[170], log_genes_mean[171], log_genes_mean[172], log_genes_mean[173], log_genes_mean[174], log_genes_mean[175], log_genes_mean[176], log_genes_mean[177], log_genes_mean[178], log_genes_mean[179], log_genes_mean[180], log_genes_mean[181], log_genes_mean[182], log_genes_mean[183], log_genes_mean[184], log_genes_mean[185], log_genes_mean[186], log_genes_mean[187], log_genes_mean[188], log_genes_mean[189], log_genes_mean[190], log_genes_mean[191], log_genes_mean[192], log_genes_mean[193], log_genes_mean[194], log_genes_mean[195], log_genes_mean[196], log_genes_mean[197], log_genes_mean[198], log_genes_mean[199], log_genes_mean[200], log_genes_mean[201], log_genes_mean[202], log_genes_mean[203], log_genes_mean[204], log_genes_mean[205], log_genes_mean[206], log_genes_mean[207], log_genes_mean[208], log_genes_mean[209], log_genes_mean[210], log_genes_mean[211], log_genes_mean[212], log_genes_mean[213], log_genes_mean[214], log_genes_mean[215], log_genes_mean[216], log_genes_mean[217], log_genes_mean[218], log_genes_mean[219], log_genes_mean[220], log_genes_mean[221], log_genes_mean[222], log_genes_mean[223], log_genes_mean[224], log_genes_mean[225], log_genes_mean[226], log_genes_mean[227], log_genes_mean[228], log_genes_mean[229], log_genes_mean[230], log_genes_mean[231], log_genes_mean[232], log_genes_mean[233], log_genes_mean[234], log_genes_mean[235], log_genes_mean[236], log_genes_mean[237], log_genes_mean[238], log_genes_mean[239], log_genes_mean[240], log_genes_mean[241], log_genes_mean[242], log_genes_mean[243], log_genes_mean[244], log_genes_mean[245], log_genes_mean[246], log_genes_mean[247], log_genes_mean[248], log_genes_mean[249], log_genes_mean[250], log_genes_mean[251], log_genes_mean[252], log_genes_mean[253], log_genes_mean[254], log_genes_mean[255], log_genes_mean[256], log_genes_mean[257], log_genes_mean[258], log_genes_mean[259], log_genes_mean[260], log_genes_mean[261], log_genes_mean[262], log_genes_mean[263], log_genes_mean[264], log_genes_mean[265], log_genes_mean[266], log_genes_mean[267], log_genes_mean[268], log_genes_mean[269], log_genes_mean[270], log_genes_mean[271], log_genes_mean[272], log_genes_mean[273], log_genes_mean[274], log_genes_mean[275], log_genes_mean[276], log_genes_mean[277], log_genes_mean[278], log_genes_mean[279], log_genes_mean[280], log_genes_mean[281], log_genes_mean[282], log_genes_mean[283], log_genes_mean[284], log_genes_mean[285], log_genes_mean[286], log_genes_mean[287], log_genes_mean[288], log_genes_mean[289], log_genes_mean[290], log_genes_mean[291], log_genes_mean[292], log_genes_mean[293], log_genes_mean[294], log_genes_mean[295], log_genes_mean[296], log_genes_mean[297], log_genes_mean[298], log_genes_mean[299], log_genes_mean[300], log_genes_mean[301], log_genes_mean[302], log_genes_mean[303], log_genes_mean[304], log_genes_mean[305], log_genes_mean[306], log_genes_mean[307], log_genes_mean[308], log_genes_mean[309], log_genes_mean[310], log_genes_mean[311], log_genes_mean[312], log_genes_mean[313], log_genes_mean[314], log_genes_mean[315], log_genes_mean[316], log_genes_mean[317], log_genes_mean[318], log_genes_mean[319], log_genes_mean[320], log_genes_mean[321], log_genes_mean[322], log_genes_mean[323], log_genes_mean[324], log_genes_mean[325], log_genes_mean[326], log_genes_mean[327], log_genes_mean[328], log_genes_mean[329], log_genes_mean[330], log_genes_mean[331], log_genes_mean[332], log_genes_mean[333], log_genes_mean[334], log_genes_mean[335], log_genes_mean[336], log_genes_mean[337], log_genes_mean[338], log_genes_mean[339], log_genes_mean[340], log_genes_mean[341], log_genes_mean[342], log_genes_mean[343], log_genes_mean[344], log_genes_mean[345], log_genes_mean[346], log_genes_mean[347], log_genes_mean[348], log_genes_mean[349], log_genes_mean[350], log_genes_mean[351], log_genes_mean[352], log_genes_mean[353], log_genes_mean[354], log_genes_mean[355], log_genes_mean[356], log_genes_mean[357], log_genes_mean[358], log_genes_mean[359], log_genes_mean[360], log_genes_mean[361], log_genes_mean[362], log_genes_mean[363], log_genes_mean[364], log_genes_mean[365], log_genes_mean[366], log_genes_mean[367], log_genes_mean[368], log_genes_mean[369], log_genes_mean[370], log_genes_mean[371], log_genes_mean[372], log_genes_mean[373], log_genes_mean[374], log_genes_mean[375], log_genes_mean[376], log_genes_mean[377], log_genes_mean[378]\n",
       "\n",
       "Summary Statistics\n",
       " \u001b[1m         parameters \u001b[0m \u001b[1m      mean \u001b[0m \u001b[1m     std \u001b[0m \u001b[1m    mcse \u001b[0m \u001b[1m ess_bulk \u001b[0m \u001b[1m ess_tail \u001b[0m \u001b[1m  \u001b[0m ⋯\n",
       " \u001b[90m             Symbol \u001b[0m \u001b[90m   Float64 \u001b[0m \u001b[90m Float64 \u001b[0m \u001b[90m Float64 \u001b[0m \u001b[90m  Float64 \u001b[0m \u001b[90m  Float64 \u001b[0m \u001b[90m F\u001b[0m ⋯\n",
       "\n",
       "               gamma      0.2500    0.0027    0.0001   394.7290   261.4670     ⋯\n",
       "                  nu      0.1432    0.0289    0.0016   328.5702   383.7504     ⋯\n",
       "                 eta      0.1001    0.0186    0.0010   378.5359   364.6472     ⋯\n",
       "            rho_gene      1.6386    2.0432    0.0977   428.3778   361.9936     ⋯\n",
       "             rt_init      2.0081    0.1912    0.0091   439.3601   382.0012     ⋯\n",
       "            sigma_rt      0.1023    0.0208    0.0010   427.9710   404.2759     ⋯\n",
       "                 tau      1.6545    1.9292    0.1034   371.1020   363.6530     ⋯\n",
       "              lambda      0.9811    0.0505    0.0025   402.8416   448.9037     ⋯\n",
       "                  df     20.7493   13.5696    0.7650   284.1191   329.2230     ⋯\n",
       "              E_init   4002.0013    0.0469    0.0023   411.1419   401.4986     ⋯\n",
       "              I_init   8005.0014    0.0502    0.0024   438.2895   401.9230     ⋯\n",
       "             R1_init   5476.0008    0.0538    0.0028   374.7488   365.0671     ⋯\n",
       "   alpha_t_values[0]      0.2873    0.0626    0.0032   408.4848   261.8554     ⋯\n",
       "   alpha_t_values[1]      0.2907    0.0694    0.0034   418.7676   402.5573     ⋯\n",
       "   alpha_t_values[2]      0.2913    0.0762    0.0041   335.4664   365.4014     ⋯\n",
       "   alpha_t_values[3]      0.2918    0.0828    0.0046   307.6830   333.3473     ⋯\n",
       "   alpha_t_values[4]      0.2913    0.0912    0.0049   306.2729   365.0671     ⋯\n",
       "   alpha_t_values[5]      0.2913    0.0943    0.0050   365.4052   365.0671     ⋯\n",
       "   alpha_t_values[6]      0.2937    0.1025    0.0054   346.9590   364.0701     ⋯\n",
       "   alpha_t_values[7]      0.2954    0.1053    0.0055   349.1609   384.4575     ⋯\n",
       "   alpha_t_values[8]      0.2945    0.1108    0.0057   386.9214   350.3343     ⋯\n",
       "   alpha_t_values[9]      0.2987    0.1175    0.0062   361.1417   336.3075     ⋯\n",
       "  alpha_t_values[10]      0.3003    0.1305    0.0073   322.5592   365.4014     ⋯\n",
       "          ⋮                ⋮          ⋮         ⋮         ⋮          ⋮         ⋱\n",
       "\u001b[36m                                                 2 columns and 2757 rows omitted\u001b[0m\n",
       "\n",
       "Quantiles\n",
       " \u001b[1m         parameters \u001b[0m \u001b[1m      2.5% \u001b[0m \u001b[1m     25.0% \u001b[0m \u001b[1m     50.0% \u001b[0m \u001b[1m     75.0% \u001b[0m \u001b[1m     97.\u001b[0m ⋯\n",
       " \u001b[90m             Symbol \u001b[0m \u001b[90m   Float64 \u001b[0m \u001b[90m   Float64 \u001b[0m \u001b[90m   Float64 \u001b[0m \u001b[90m   Float64 \u001b[0m \u001b[90m   Float\u001b[0m ⋯\n",
       "\n",
       "               gamma      0.2449      0.2483      0.2499      0.2517      0.25 ⋯\n",
       "                  nu      0.0956      0.1237      0.1378      0.1606      0.20 ⋯\n",
       "                 eta      0.0672      0.0875      0.0990      0.1115      0.14 ⋯\n",
       "            rho_gene      0.1527      0.4629      0.9299      1.9616      7.51 ⋯\n",
       "             rt_init      1.6570      1.8792      2.0089      2.1368      2.38 ⋯\n",
       "            sigma_rt      0.0688      0.0887      0.1002      0.1150      0.15 ⋯\n",
       "                 tau      0.1746      0.5153      1.0425      2.0719      7.17 ⋯\n",
       "              lambda      0.8430      0.9857      0.9972      0.9994      0.99 ⋯\n",
       "                  df      3.0087     10.6614     17.6925     28.5887     54.36 ⋯\n",
       "              E_init   4001.9080   4001.9710   4002.0018   4002.0327   4002.08 ⋯\n",
       "              I_init   8004.9067   8004.9681   8004.9990   8005.0351   8005.10 ⋯\n",
       "             R1_init   5475.8916   5475.9671   5476.0044   5476.0387   5476.09 ⋯\n",
       "   alpha_t_values[0]      0.1882      0.2433      0.2795      0.3240      0.43 ⋯\n",
       "   alpha_t_values[1]      0.1743      0.2422      0.2840      0.3316      0.46 ⋯\n",
       "   alpha_t_values[2]      0.1656      0.2395      0.2829      0.3304      0.45 ⋯\n",
       "   alpha_t_values[3]      0.1657      0.2343      0.2793      0.3332      0.48 ⋯\n",
       "   alpha_t_values[4]      0.1600      0.2267      0.2813      0.3294      0.52 ⋯\n",
       "   alpha_t_values[5]      0.1500      0.2275      0.2750      0.3303      0.52 ⋯\n",
       "   alpha_t_values[6]      0.1471      0.2256      0.2774      0.3442      0.57 ⋯\n",
       "   alpha_t_values[7]      0.1430      0.2238      0.2813      0.3477      0.53 ⋯\n",
       "   alpha_t_values[8]      0.1476      0.2159      0.2752      0.3532      0.56 ⋯\n",
       "   alpha_t_values[9]      0.1407      0.2188      0.2807      0.3544      0.57 ⋯\n",
       "  alpha_t_values[10]      0.1290      0.2126      0.2836      0.3582      0.57 ⋯\n",
       "          ⋮                ⋮           ⋮           ⋮           ⋮           ⋮   ⋱\n",
       "\u001b[36m                                                  1 column and 2757 rows omitted\u001b[0m\n"
      ]
     },
     "execution_count": 55,
     "metadata": {},
     "output_type": "execute_result"
    }
   ],
   "source": [
    "Random.seed!(seed)\n",
    "prior_samples = sample(my_model, Prior(), MCMCThreads(), 400, n_chains)\n",
    "    \n",
    "indices_to_keep = .!isnothing.(generated_quantities(my_model, prior_samples))\n",
    "prior_samples_randn = ChainsCustomIndex(prior_samples, indices_to_keep)\n",
    "    \n",
    "Random.seed!(seed)\n",
    "prior_predictive_randn = predict(my_model_forecast_missing, prior_samples_randn)\n",
    "    \n",
    "Random.seed!(seed)\n",
    "prior_gq_randn = get_gq_chains(my_model, prior_samples_randn)"
   ]
  }
 ],
 "metadata": {
  "kernelspec": {
   "display_name": "Julia 1.10.2",
   "language": "julia",
   "name": "julia-1.10"
  },
  "language_info": {
   "file_extension": ".jl",
   "mimetype": "application/julia",
   "name": "julia",
   "version": "1.10.2"
  }
 },
 "nbformat": 4,
 "nbformat_minor": 5
}
