{
 "cells": [
  {
   "cell_type": "code",
   "execution_count": 3,
   "metadata": {},
   "outputs": [
    {
     "name": "stdout",
     "output_type": "stream",
     "text": [
      "{'ts': '20240710_092249', 'root_path': '/lcrc/project/EMEWS/bebop-2.0/ncollier/repos/Chicago-WW-Reff', 'out_dir': '/lcrc/project/EMEWS/bebop-2.0/ncollier/repos/Chicago-WW-Reff/Goldstein/aero/output', 'sim': 'real', 'seed': 1, 'rt_plot_name': 'rt_plot_20240710_092249.png', 'n_samples': 10, 'n_chains': 2, 'n_reps': 10, 'waste_water_r': '/lcrc/project/EMEWS/bebop-2.0/ncollier/repos/Chicago-WW-Reff/Goldstein/WW_paper-1/src/wastewater_functions.R', 'gen_quants_filename': 'generated_quantities_20240710_092249.csv', 'post_pred_filename': 'posterior_predictive_20240710_092249.csv', 'posterior_df_filename': 'posterior_df_20240710_092249.csv', 'ww_data': '/lcrc/project/EMEWS/bebop-2.0/ncollier/repos/Chicago-WW-Reff/Goldstein/WW_paper-1/data/Obriendata.csv'}\n"
     ]
    }
   ],
   "source": [
    "from globus_compute_sdk import Executor\n",
    "\n",
    "\n",
    "def run_waste_water_reff():\n",
    "    import os\n",
    "    import sys\n",
    "\n",
    "    root_path = '/lcrc/project/EMEWS/bebop-2.0/ncollier/repos/Chicago-WW-Reff'\n",
    "    aero_path = os.path.join(root_path, 'Goldstein', 'aero')\n",
    "    # assumes Chicago-WW-Reff repo is on the endpoint\n",
    "    os.chdir(aero_path)\n",
    "    sys.path.append(aero_path)\n",
    "    import wastewater_harness\n",
    "\n",
    "    cfg = wastewater_harness.run(10, 2, n_reps=10, root_path=root_path, n_threads=10)\n",
    "    return cfg\n",
    "\n",
    "\n",
    "endpoint_id = '511f7139-cf03-4bd0-9064-3061a8dd4402'\n",
    "with Executor(endpoint_id=endpoint_id) as fxe:\n",
    "    future = fxe.submit(run_waste_water_reff)\n",
    "    print(future.result())\n"
   ]
  },
  {
   "cell_type": "markdown",
   "metadata": {},
   "source": [
    "* Bebop DIS Node Endpoint: 0fbe506c-6bd2-41b0-bf8f-4192f29a2ae8 | aero-wastewater\n",
    "* Bepop Login Node Endpoint: fa16829e-1ca4-481c-9015-884402aed5c8 | aero-wastewater-login"
   ]
  },
  {
   "cell_type": "code",
   "execution_count": 1,
   "metadata": {},
   "outputs": [
    {
     "data": {
      "text/plain": [
       "'bar'"
      ]
     },
     "execution_count": 1,
     "metadata": {},
     "output_type": "execute_result"
    }
   ],
   "source": [
    "import os\n",
    "\n",
    "os.environ[\"FOO\"]"
   ]
  },
  {
   "cell_type": "code",
   "execution_count": 5,
   "metadata": {},
   "outputs": [],
   "source": [
    "condo_endpoint = \"0fbe506c-6bd2-41b0-bf8f-4192f29a2ae8\"\n",
    "login_endpoint = \"fa16829e-1ca4-481c-9015-884402aed5c8\""
   ]
  },
  {
   "cell_type": "code",
   "execution_count": 6,
   "metadata": {},
   "outputs": [
    {
     "name": "stdout",
     "output_type": "stream",
     "text": [
      "Linux-4.18.0-513.5.1.el8_9.x86_64-x86_64-with-glibc2.28\n"
     ]
    }
   ],
   "source": [
    "# Login using compute login manager\n",
    "import globus_sdk\n",
    "import os\n",
    "from globus_sdk.scopes import AuthScopes\n",
    "from globus_compute_sdk import Client, Executor\n",
    "from globus_compute_sdk.sdk.login_manager import AuthorizerLoginManager\n",
    "from globus_compute_sdk.sdk.login_manager.manager import ComputeScopeBuilder\n",
    "\n",
    "c = globus_sdk.ConfidentialAppAuthClient(\n",
    "        os.environ[\"GLOBUS_COMPUTE_CLIENT_ID\"],\n",
    "        os.environ[\"GLOBUS_COMPUTE_CLIENT_SECRET\"],\n",
    "    )\n",
    "\n",
    "gc_authorizer = globus_sdk.ClientCredentialsAuthorizer(c, Client.FUNCX_SCOPE)\n",
    "openid_authorizer = globus_sdk.ClientCredentialsAuthorizer(c, AuthScopes.openid)\n",
    "\n",
    "ComputeScopes = ComputeScopeBuilder()\n",
    "compute_login_manager = AuthorizerLoginManager(\n",
    "      authorizers={ComputeScopes.resource_server: gc_authorizer,\n",
    "                   AuthScopes.resource_server: openid_authorizer}\n",
    ")\n",
    "compute_login_manager.ensure_logged_in()\n",
    "\n",
    "gc = Client(login_manager=compute_login_manager)\n"
   ]
  },
  {
   "cell_type": "code",
   "execution_count": null,
   "metadata": {},
   "outputs": [],
   "source": [
    "compute_login_manager.ensure_logged_in()\n",
    "\n",
    "def plat():\n",
    "    import platform\n",
    "    return platform.platform()\n",
    "\n",
    "with Executor(client=gc, endpoint_id=condo_endpoint) as gce:\n",
    "    fut = gce.submit(plat)\n",
    "    print(fut.result())\n"
   ]
  },
  {
   "cell_type": "code",
   "execution_count": 8,
   "metadata": {},
   "outputs": [
    {
     "name": "stderr",
     "output_type": "stream",
     "text": [
      "Logout cannot be invoked from an AuthorizerLoginManager.\n"
     ]
    }
   ],
   "source": []
  },
  {
   "cell_type": "code",
   "execution_count": 2,
   "metadata": {},
   "outputs": [
    {
     "data": {
      "text/plain": [
       "'aa88b2a1-0d09-4f99-a471-aac4615fd719'"
      ]
     },
     "execution_count": 2,
     "metadata": {},
     "output_type": "execute_result"
    }
   ],
   "source": [
    "# Register transformation function\n",
    "from aero_client.utils import register_function\n",
    "from wastewater_transform import transform\n",
    "\n",
    "register_function(transform)\n",
    "\n",
    "# aa88b2a1-0d09-4f99-a471-aac4615fd719"
   ]
  },
  {
   "cell_type": "code",
   "execution_count": 11,
   "metadata": {},
   "outputs": [],
   "source": [
    "transform_func_id = \"8b68edcd-4706-419c-bd32-7368e905bf08\""
   ]
  },
  {
   "cell_type": "code",
   "execution_count": 12,
   "metadata": {},
   "outputs": [
    {
     "data": {
      "text/plain": [
       "{'id': '14f4ed96-3d5d-4606-9cbb-670186e30901',\n",
       " 'derived_from': [],\n",
       " 'contributed_to': [{'id': '6914724a-a9bc-42af-9910-367e4c31140e',\n",
       "   'name': 'output',\n",
       "   'url': 'https://iwss.uillinois.edu/wastewater-treatment-plant/download/169/',\n",
       "   'collection_uuid': '52f7f6bc-444f-439a-ad48-a4569d10c3d1',\n",
       "   'collection_url': 'https://g-c952d0.1305de.36fe.data.globus.org/',\n",
       "   'description': 'aero wastewater transform 169',\n",
       "   'available_versions': 0}],\n",
       " 'description': 'aero wastewater transform 169',\n",
       " 'endpoint': 'fa16829e-1ca4-481c-9015-884402aed5c8',\n",
       " 'function_id': '8b68edcd-4706-419c-bd32-7368e905bf08',\n",
       " 'function_args': '{\"kwargs\": {\"aero\": {\"input_data\": {}, \"output_data\": {\"output\": {\"url\": \"https://iwss.uillinois.edu/wastewater-treatment-plant/download/169/\", \"collection_uuid\": \"52f7f6bc-444f-439a-ad48-a4569d10c3d1\", \"collection_url\": \"https://g-c952d0.1305de.36fe.data.globus.org/\", \"id\": \"6914724a-a9bc-42af-9910-367e4c31140e\"}}, \"flow_id\": \"14f4ed96-3d5d-4606-9cbb-670186e30901\"}}, \"function\": \"8b68edcd-4706-419c-bd32-7368e905bf08\", \"endpoint\": \"fa16829e-1ca4-481c-9015-884402aed5c8\"}',\n",
       " 'timer': 86400,\n",
       " 'policy': 0,\n",
       " 'timer_job_id': 'ee38c05f-4997-49bb-a6cd-29b179138896',\n",
       " 'last_executed': None}"
      ]
     },
     "execution_count": 12,
     "metadata": {},
     "output_type": "execute_result"
    }
   ],
   "source": [
    "# Register transformation flow\n",
    "from aero_client.api import register_flow\n",
    "from aero_client.utils import PolicyEnum\n",
    "\n",
    "endpoint_uuid = login_endpoint\n",
    "function_uuid = transform_func_id\n",
    "output_data = {\n",
    "    \"output\": {  # key here needs to match the name of your parameter, will also be the name of the record in the db\n",
    "        \"url\": \"https://iwss.uillinois.edu/wastewater-treatment-plant/download/169/\",\n",
    "        \"collection_uuid\": \"52f7f6bc-444f-439a-ad48-a4569d10c3d1\",\n",
    "        \"collection_url\": \"https://g-c952d0.1305de.36fe.data.globus.org/\",\n",
    "    }\n",
    "}\n",
    "description = \"aero wastewater transform 169\"\n",
    "policy = PolicyEnum.INGESTION\n",
    "timer_delay = 86400\n",
    "fl = register_flow(\n",
    "    endpoint_uuid=endpoint_uuid,\n",
    "    function_uuid=function_uuid,\n",
    "    output_data=output_data,\n",
    "    description=description,\n",
    "    policy=policy,\n",
    "    timer_delay=timer_delay,\n",
    ")\n",
    "\n",
    "fl"
   ]
  },
  {
   "cell_type": "code",
   "execution_count": 14,
   "metadata": {},
   "outputs": [
    {
     "name": "stderr",
     "output_type": "stream",
     "text": [
      "/lcrc/project/EMEWS/bebop-2.0/cenv/osprey_gce-py3.10/lib/python3.10/site-packages/urllib3/connectionpool.py:1099: InsecureRequestWarning: Unverified HTTPS request is being made to host '129.114.27.115'. Adding certificate verification is strongly advised. See: https://urllib3.readthedocs.io/en/latest/advanced-usage.html#tls-warnings\n",
      "  warnings.warn(\n"
     ]
    },
    {
     "data": {
      "text/plain": [
       "{'id': '1acf162a-a1fd-4445-b93e-55b8f20ea6e1',\n",
       " 'derived_from': [{'id': '6914724a-a9bc-42af-9910-367e4c31140e',\n",
       "   'name': 'output',\n",
       "   'url': 'https://iwss.uillinois.edu/wastewater-treatment-plant/download/169/',\n",
       "   'collection_uuid': '52f7f6bc-444f-439a-ad48-a4569d10c3d1',\n",
       "   'collection_url': 'https://g-c952d0.1305de.36fe.data.globus.org/',\n",
       "   'description': 'aero wastewater transform 169',\n",
       "   'available_versions': 1}],\n",
       " 'contributed_to': [{'id': '433284e7-7254-4692-ae53-84703f9ec1ac',\n",
       "   'name': 'rt_plot',\n",
       "   'url': None,\n",
       "   'collection_uuid': '52f7f6bc-444f-439a-ad48-a4569d10c3d1',\n",
       "   'collection_url': 'https://g-c952d0.1305de.36fe.data.globus.org/',\n",
       "   'description': 'Goldenstein Wastewater Rt 169',\n",
       "   'available_versions': 0},\n",
       "  {'id': '7741bc6e-5518-408c-9927-770aa84e9c53',\n",
       "   'name': 'post_preds',\n",
       "   'url': None,\n",
       "   'collection_uuid': '52f7f6bc-444f-439a-ad48-a4569d10c3d1',\n",
       "   'collection_url': 'https://g-c952d0.1305de.36fe.data.globus.org/',\n",
       "   'description': 'Goldenstein Wastewater Rt 169',\n",
       "   'available_versions': 0},\n",
       "  {'id': '3b13f30e-05ed-4b9c-9229-1574720ac067',\n",
       "   'name': 'posterior_df',\n",
       "   'url': None,\n",
       "   'collection_uuid': '52f7f6bc-444f-439a-ad48-a4569d10c3d1',\n",
       "   'collection_url': 'https://g-c952d0.1305de.36fe.data.globus.org/',\n",
       "   'description': 'Goldenstein Wastewater Rt 169',\n",
       "   'available_versions': 0},\n",
       "  {'id': '05d6115c-e637-47f5-bcfd-fa5f5521a404',\n",
       "   'name': 'gen_quants',\n",
       "   'url': None,\n",
       "   'collection_uuid': '52f7f6bc-444f-439a-ad48-a4569d10c3d1',\n",
       "   'collection_url': 'https://g-c952d0.1305de.36fe.data.globus.org/',\n",
       "   'description': 'Goldenstein Wastewater Rt 169',\n",
       "   'available_versions': 0}],\n",
       " 'description': 'Goldenstein Wastewater Rt 169',\n",
       " 'endpoint': '0fbe506c-6bd2-41b0-bf8f-4192f29a2ae8',\n",
       " 'function_id': 'faa14e99-d009-4ffe-8982-5f488f2df031',\n",
       " 'function_args': '{\"kwargs\": {\"n_samples\": 10, \"n_chains\": 2, \"n_reps\": 10, \"n_threads\": 10, \"root_path\": \"/lcrc/project/EMEWS/bebop-2.0/ncollier/repos/Chicago-WW-Reff\", \"aero\": {\"input_data\": {\"input_data\": {\"id\": \"6914724a-a9bc-42af-9910-367e4c31140e\", \"version\": null, \"collection_url\": \"https://g-c952d0.1305de.36fe.data.globus.org/\", \"collection_uuid\": \"52f7f6bc-444f-439a-ad48-a4569d10c3d1\"}}, \"output_data\": {\"post_preds\": {\"collection_uuid\": \"52f7f6bc-444f-439a-ad48-a4569d10c3d1\", \"collection_url\": \"https://g-c952d0.1305de.36fe.data.globus.org/\", \"id\": \"7741bc6e-5518-408c-9927-770aa84e9c53\"}, \"rt_plot\": {\"collection_uuid\": \"52f7f6bc-444f-439a-ad48-a4569d10c3d1\", \"collection_url\": \"https://g-c952d0.1305de.36fe.data.globus.org/\", \"id\": \"433284e7-7254-4692-ae53-84703f9ec1ac\"}, \"gen_quants\": {\"collection_uuid\": \"52f7f6bc-444f-439a-ad48-a4569d10c3d1\", \"collection_url\": \"https://g-c952d0.1305de.36fe.data.globus.org/\", \"id\": \"05d6115c-e637-47f5-bcfd-fa5f5521a404\"}, \"posterior_df\": {\"collection_uuid\": \"52f7f6bc-444f-439a-ad48-a4569d10c3d1\", \"collection_url\": \"https://g-c952d0.1305de.36fe.data.globus.org/\", \"id\": \"3b13f30e-05ed-4b9c-9229-1574720ac067\"}}, \"flow_id\": \"1acf162a-a1fd-4445-b93e-55b8f20ea6e1\"}}, \"function\": \"faa14e99-d009-4ffe-8982-5f488f2df031\", \"endpoint\": \"0fbe506c-6bd2-41b0-bf8f-4192f29a2ae8\"}',\n",
       " 'timer': 86400,\n",
       " 'policy': 3,\n",
       " 'timer_job_id': None,\n",
       " 'last_executed': 'Thu Sep 26 19:04:18 2024'}"
      ]
     },
     "execution_count": 14,
     "metadata": {},
     "output_type": "execute_result"
    }
   ],
   "source": [
    "analysis_func_id = \"faa14e99-d009-4ffe-8982-5f488f2df031\"\n",
    "\n",
    "endpoint_uuid = condo_endpoint  \n",
    "function_uuid = analysis_func_id  # update to be you function\n",
    "\n",
    "function_args = {\n",
    "    \"n_samples\": 10,\n",
    "    \"n_chains\": 2,\n",
    "    \"n_reps\": 10,\n",
    "    \"n_threads\": 10,\n",
    "    \"root_path\": \"/lcrc/project/EMEWS/bebop-2.0/ncollier/repos/Chicago-WW-Reff\",\n",
    "} \n",
    "\n",
    "input_data = {\n",
    "    \"input_data\": {\n",
    "        # id of 169 ingestion\n",
    "        \"id\": \"6914724a-a9bc-42af-9910-367e4c31140e\",\n",
    "        \"version\": None,\n",
    "    } \n",
    "}\n",
    "\n",
    "output_data = {\n",
    "    \"post_preds\": {\n",
    "        \"collection_uuid\": \"52f7f6bc-444f-439a-ad48-a4569d10c3d1\",\n",
    "        \"collection_url\": \"https://g-c952d0.1305de.36fe.data.globus.org/\",\n",
    "    },\n",
    "    \"rt_plot\": {\n",
    "        \"collection_uuid\": \"52f7f6bc-444f-439a-ad48-a4569d10c3d1\",\n",
    "        \"collection_url\": \"https://g-c952d0.1305de.36fe.data.globus.org/\",\n",
    "    },\n",
    "    \"gen_quants\": {\n",
    "        \"collection_uuid\": \"52f7f6bc-444f-439a-ad48-a4569d10c3d1\",\n",
    "        \"collection_url\": \"https://g-c952d0.1305de.36fe.data.globus.org/\",\n",
    "    },\n",
    "    \"posterior_df\": {\n",
    "        \"collection_uuid\": \"52f7f6bc-444f-439a-ad48-a4569d10c3d1\",\n",
    "        \"collection_url\": \"https://g-c952d0.1305de.36fe.data.globus.org/\",\n",
    "    }\n",
    "}\n",
    "\n",
    "description = \"Goldenstein Wastewater Rt 169\"\n",
    "policy = PolicyEnum.ALL\n",
    "fl = register_flow(\n",
    "    endpoint_uuid=endpoint_uuid,\n",
    "    function_uuid=function_uuid,\n",
    "    input_data=input_data,\n",
    "    output_data=output_data,\n",
    "    kwargs=function_args,\n",
    "    policy=policy,\n",
    "    description=description,\n",
    ")\n",
    "\n",
    "fl"
   ]
  }
 ],
 "metadata": {
  "kernelspec": {
   "display_name": "py3.11",
   "language": "python",
   "name": "python3"
  },
  "language_info": {
   "codemirror_mode": {
    "name": "ipython",
    "version": 3
   },
   "file_extension": ".py",
   "mimetype": "text/x-python",
   "name": "python",
   "nbconvert_exporter": "python",
   "pygments_lexer": "ipython3",
   "version": "3.10.14"
  }
 },
 "nbformat": 4,
 "nbformat_minor": 2
}
