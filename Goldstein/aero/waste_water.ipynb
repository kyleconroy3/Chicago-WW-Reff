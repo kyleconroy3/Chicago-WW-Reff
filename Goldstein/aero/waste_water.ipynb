{
 "cells": [
  {
   "cell_type": "code",
   "execution_count": 3,
   "metadata": {},
   "outputs": [
    {
     "name": "stdout",
     "output_type": "stream",
     "text": [
      "{'ts': '20240710_092249', 'root_path': '/lcrc/project/EMEWS/bebop-2.0/ncollier/repos/Chicago-WW-Reff', 'out_dir': '/lcrc/project/EMEWS/bebop-2.0/ncollier/repos/Chicago-WW-Reff/Goldstein/aero/output', 'sim': 'real', 'seed': 1, 'rt_plot_name': 'rt_plot_20240710_092249.png', 'n_samples': 10, 'n_chains': 2, 'n_reps': 10, 'waste_water_r': '/lcrc/project/EMEWS/bebop-2.0/ncollier/repos/Chicago-WW-Reff/Goldstein/WW_paper-1/src/wastewater_functions.R', 'gen_quants_filename': 'generated_quantities_20240710_092249.csv', 'post_pred_filename': 'posterior_predictive_20240710_092249.csv', 'posterior_df_filename': 'posterior_df_20240710_092249.csv', 'ww_data': '/lcrc/project/EMEWS/bebop-2.0/ncollier/repos/Chicago-WW-Reff/Goldstein/WW_paper-1/data/Obriendata.csv'}\n"
     ]
    }
   ],
   "source": [
    "from globus_compute_sdk import Executor\n",
    "\n",
    "\n",
    "def run_waste_water_reff():\n",
    "    import os\n",
    "    import sys\n",
    "\n",
    "    root_path = '/lcrc/project/EMEWS/bebop-2.0/ncollier/repos/Chicago-WW-Reff'\n",
    "    aero_path = os.path.join(root_path, 'Goldstein', 'aero')\n",
    "    # assumes Chicago-WW-Reff repo is on the endpoint\n",
    "    os.chdir(aero_path)\n",
    "    sys.path.append(aero_path)\n",
    "    import waste_water_harness\n",
    "\n",
    "    cfg = waste_water_harness.run(10, 2, n_reps=10, root_path=root_path, n_threads=10)\n",
    "    return cfg\n",
    "\n",
    "\n",
    "endpoint_id = '511f7139-cf03-4bd0-9064-3061a8dd4402'\n",
    "with Executor(endpoint_id=endpoint_id) as fxe:\n",
    "    future = fxe.submit(run_waste_water_reff)\n",
    "    print(future.result())\n"
   ]
  }
 ],
 "metadata": {
  "kernelspec": {
   "display_name": "py3.11",
   "language": "python",
   "name": "python3"
  },
  "language_info": {
   "codemirror_mode": {
    "name": "ipython",
    "version": 3
   },
   "file_extension": ".py",
   "mimetype": "text/x-python",
   "name": "python",
   "nbconvert_exporter": "python",
   "pygments_lexer": "ipython3",
   "version": "3.11.9"
  }
 },
 "nbformat": 4,
 "nbformat_minor": 2
}
